{
  "nbformat": 4,
  "nbformat_minor": 0,
  "metadata": {
    "colab": {
      "name": "DN START",
      "version": "0.3.2",
      "provenance": [],
      "include_colab_link": true
    },
    "kernelspec": {
      "name": "python3",
      "display_name": "Python 3"
    }
  },
  "cells": [
    {
      "cell_type": "markdown",
      "metadata": {
        "id": "view-in-github",
        "colab_type": "text"
      },
      "source": [
        "[View in Colaboratory](https://colab.research.google.com/github/bipin1404/dn-start/blob/master/DN_START.ipynb)"
      ]
    },
    {
      "metadata": {
        "id": "kBHFDNvuK5qA",
        "colab_type": "text"
      },
      "cell_type": "markdown",
      "source": [
        "# Question 1"
      ]
    },
    {
      "metadata": {
        "id": "3eNJNPfYDSAs",
        "colab_type": "code",
        "colab": {
          "base_uri": "https://localhost:8080/",
          "height": 37
        },
        "outputId": "bb8c4116-aa19-4cd8-92b5-ee0c45bd2d96"
      },
      "cell_type": "code",
      "source": [
        "X=W*A+B\n",
        "x=(-0.06*2.7)+(-2.5*-8.6)+(1.4*0.002)+(-1.1)\n",
        "x=(0.0162)+(21.5)+(0.0028)+(-1.1)\n",
        "x=20.3866\n",
        "y=1/(1+e^(-x))\n",
        "y=0.9999999985"
      ],
      "execution_count": 1,
      "outputs": []
    },
    {
      "metadata": {
        "id": "Yms6HRZgPHRQ",
        "colab_type": "text"
      },
      "cell_type": "markdown",
      "source": [
        "# Question 2"
      ]
    },
    {
      "metadata": {
        "id": "Advwpfm5PJup",
        "colab_type": "code",
        "colab": {}
      },
      "cell_type": "code",
      "source": [
        "F=U+V-W\n",
        "U=a*b\n",
        "v=a*c\n",
        "w=b+c\n",
        "F=a(b+c)-(b+c)\n",
        "F=(b+c)(a-1)"
      ],
      "execution_count": 0,
      "outputs": []
    }
  ]
}